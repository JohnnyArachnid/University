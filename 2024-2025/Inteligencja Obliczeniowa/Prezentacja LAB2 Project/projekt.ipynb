{
 "cells": [
  {
   "cell_type": "markdown",
   "id": "68ed7032bfd26433",
   "metadata": {},
   "source": [
    "# Kontenery\n",
    "Grupa 4"
   ]
  },
  {
   "cell_type": "markdown",
   "id": "23f28644832d6f10",
   "metadata": {},
   "source": [
    "Problem bazuje na **Projekcie RE:UKRAINE** koncentrując się na tworzeniu tymczasowych rozwiązań mieszkaniowych dla Ukraińców dotkniętych wojną. Projektują modułowe, skalowalne i elastyczne jednostki mieszkalne, które zapewniają godność, komfort i możliwości integracji społecznej. Celem jest szybkie wprowadzenie mieszkań przy użyciu *efektywnych*, kosztowych metod budowy, zachowując przy tym *wysoką jakość*.\n",
    "\n",
    "<img src=\"imgs/types.png\" width=\"auto\" height=\"400\"/>\n",
    "<img src=\"imgs/plan.png\" width=\"auto\" height=\"400\"/>"
   ]
  },
  {
   "cell_type": "markdown",
   "id": "d8ec2a411877cb9a",
   "metadata": {},
   "source": [
    "## Opis problemu:\n",
    "Celem jest zaprojektowanie optymalnego układu kwadratowych kontenerów o jednakowych wymiarach na zadanym obszarze, tak aby:\n",
    "\n",
    "- Maksymalizować liczbę modułów mieszkalnych\n",
    "- Zapewnić dostępność do kontenerów sanitarnych, kuchni i przestrzeni wspólnej\n",
    "- Uwzględnić przestrzeń pustą dla przejść między kontenerami\n",
    "- Zoptymalizować najkrótszy dostęp do kontenerów sanitarnych, kuchni i przestrzeni wspólnej dla każdego konteneru"
   ]
  },
  {
   "cell_type": "markdown",
   "id": "6f00d6bcb8b93106",
   "metadata": {},
   "source": [
    "## Implementacja\n",
    "\n",
    "Uwzględniając ułatwienia zdecydowaliśmy się na reprezentację macierzową problemu, ponieważ pozwala to na efektywne modelowanie przestrzennych relacji między elementami budynku. Dzięki tej reprezentacji łatwiej zarządzać różnymi typami pomieszczeń, takimi jak kuchnie, łazienki czy korytarze, oraz ich wzajemnymi powiązaniami. \n",
    "\n",
    "### Struktura\n",
    "\n",
    "\n",
    "Klasa `House` służy do reprezentacji budynku jako macierzy obiektów `Container`, które odzwierciedlają poszczególne segmenty. Każdy `Container` to pojedynczy element budynku, który może pełnić określoną funkcję lub być pustą przestrzenią.\n",
    "\n",
    "```python\n",
    "class House:\n",
    "    '''\n",
    "    This class represents a 'house' which contains all the Containers of different type. The space is rectangular shape with x width and y height. One cell in matrix represent one container of each type.\n",
    "\n",
    "    The output of standard __init__ is maze like shape matrix with, all Containers if possible having doors to nearest random neighbor.\n",
    "\n",
    "    The class have specific kind of attributes:\n",
    "        * **x**: `width of whole house`\n",
    "        * **y**: `height of whole house`\n",
    "        * **houses**: `number of houses containers`\n",
    "        * **sanitaries**: `number of sanitary containers`\n",
    "        * **kitchen**: `number of kitchen containers`\n",
    "        * **halls**: `number of halls containers`\n",
    "        * **matrix**: `containing matrix with containers`\n",
    "        * **entrance**: `coordinates of entrance`\n",
    "    '''\n",
    "    def __init__(self, x:int ,y:int, matrix=None):\n",
    "        if x*y < 6:\n",
    "            raise ValueError('No space for any of the containers')\n",
    "\n",
    "        self.x = x\n",
    "        self.y = y\n",
    "        if matrix is not None:\n",
    "            if type(matrix) != np.ndarray:\n",
    "                matrix = np.array(matrix,dtype=Container)\n",
    "            self.x = matrix.shape[1]\n",
    "            self.y = matrix.shape[0]\n",
    "        self.houses = 0\n",
    "        self.kitchens = 0\n",
    "        self.sanitaries = 0\n",
    "        self.halls = 0\n",
    "        self.ent = None\n",
    "        if matrix is None:\n",
    "            self.matrix = self.__generate_maze()\n",
    "        else:\n",
    "            self.matrix = self.__generate_existing(matrix)\n",
    "```\n",
    "\n",
    "Klasa `Container` odpowiada za reprezentację pojedynczego elementu w siatce budynku, który może przyjąć różne typy (np. '*K*' - kuchnia, '*S*' - sanitariat, '*H*' - hall) oraz ma dodatkowe informacje związane z tym blokiem jak *id* czy na której krawędzi są *drzwi*.\n",
    "\n",
    "```python\n",
    "class Container:\n",
    "    '''\n",
    "    It is a base container of the building, it is 3m x 3m.\n",
    "\n",
    "    it **ONLY** has 5 type 'K', 'S', 'C', 'H', '0':\n",
    "        * K - kitchen\n",
    "        * S - sanitary\n",
    "        * C - halls (aka common)\n",
    "        * H - house\n",
    "        * 0 - empty space\n",
    "\n",
    "    All the types except 'empty space' has doors that points to a different empty space. If you will provide doors to the empty space ``ValueError`` will be raised.\n",
    "    '''\n",
    "    def __init__(self, id:int,type:str, door = None):\n",
    "        self.type = type\n",
    "        self.id = id\n",
    "\n",
    "        if type == '0' and door is not None:\n",
    "            raise ValueError(f'Empty space cannot have doors: {door}')\n",
    "        self.door = door\n",
    "\n",
    "    def __str__(self):\n",
    "        return self.__repr__()\n",
    "\n",
    "    def __repr__(self):\n",
    "        '''\n",
    "        Representation looks like this i show at bottom, except ``'0'`` which doesnt have door\n",
    "        :return: type/id>door\n",
    "        '''\n",
    "        if self.type != '0':\n",
    "            return f\"{self.type}/{self.id}>{'_' if self.door is None else self.door}\"\n",
    "        else:\n",
    "            return f\"{self.type}/{self.id}\"\n",
    "```\n",
    "\n",
    "### Operatory\n",
    "\n",
    "\n",
    "Nasza reprezetacja wymagała zedfiniowania specjalnych operatorów krzyżowania oraz mutacji. Wpływają one w różny sposób na topologię mapy:\n",
    "\n",
    "* `mutate_individual(house)` &mdash; to mutacja, która losowo zmienia typ jednego kontenera w macierzy budynku. Wybierany jest losowy kontener, a jego typ zmienia się na jeden z dostępnych typów (oprócz obecnego)\n",
    "\n",
    "* `mutate_rotate_segment(house)` &mdash; mutacja obraca o 90 stopni fragment kwadratowej macierzy segmentu, zachowując jednocześnie pozycje kontenerów o typie '0' (np. drogę)\n",
    "\n",
    "* `mutation_row_or_column(house)` &mdash; Mutacja, która losowo zmienia całą wybraną linię (wiersz lub kolumnę) w macierzy\n",
    "\n",
    "* `mutate_add_road(house)` &mdash; Mutacja, która dodaje drogę lub mieszkanie do macierzy budynku. Nowa droga musi być sąsiadująca z już istniejącą drogą\n",
    "\n",
    "* `mutation_special_containers(house)` &mdash; Mutacja losowo wybiera specjalne kontenery, zmieniając jego typ na któryś z pozostałych\n",
    "\n",
    "* `mutation_change_doors(house)` &mdash; Mutacja losowo wybiera specjalny kontener lub mieszkanie po czym losowo wybiera ściankę na której będą drzwi (poza aktualną)\n",
    "\n",
    "* `crossover_swap_row_or_column(house1, house2)` &mdash; Crossover, który zamienia losową linię (wiersz lub kolumnę) między dwoma rodzicami, przy czym kontenery o typie '0' są ignorowane\n",
    "\n",
    "* `crossover_chessboard(house1, house2)` &mdash; Crossover, który zamienia komórki między dwoma rodzicami w sposób przypominający wzór szachownicy, ignorując kontenery o typie '0'\n",
    "\n",
    "* `crossover_diagonal(house1, house2)` &mdash; Crossover, który zamienia wartości na przekątnej głównej lub pobocznej między rodzicami, ignorując kontenery o typie '0'\n",
    "\n",
    "\n",
    "### Funkcja dopasowania\n",
    "\n",
    "\n",
    "Została zdefiniowana uwzględniając\n",
    "- średnią odległość pomiędzy pomieszczeniami (kuchnia, sanitariat, przestrzeń wspólna)\n",
    "- dostępność kontenerów oraz łączność podgrafów.\n",
    "- ilość segmentów domowych na całe mieszkanie\n",
    "\n",
    "\n",
    "> Dodatkowo zdefiniowany został system kar za złą topologie budynku. Funkcja <span style=\"color: red;\">karze za niepołączone części budynku i niedostępne kontenery</span>. Na koniec, <span style=\"color: red;\">w zależności od niskiej liczby mieszkań, przyznaje kolejną karę</span>. Funkcja **zwraca sumę wszystkich kar jako miarę jakości rozwiązania**.\n",
    "\n",
    "## Wizualizacja\n",
    "\n",
    "\n",
    "Do łatwiejszej interpreacji wyników powstała funkcja `visualize(house)`, tworzy graficzną reprezentację macierzy (domu) z różnymi typami kontenerów. Wizualizuje układ kontenerów, w tym opcjonalnie identyfikatory kontenerów oraz umiejscowienie drzwi między sąsiednimi kontenerami. Każdemu typowi kontenera przypisywany jest określony kolor, a drzwi rysowane są między sąsiadującymi kontenerami.\n",
    "\n",
    "<div align=\"center\">\n",
    "    <img src=\"imgs/visualization2.png\" width=\"auto\" height=\"400\"/>\n",
    "</div>\n"
   ]
  },
  {
   "cell_type": "markdown",
   "id": "838898b4dbd77131",
   "metadata": {},
   "source": [
    "## Importy"
   ]
  },
  {
   "cell_type": "markdown",
   "id": "31bc31f3e640f82a",
   "metadata": {},
   "source": [
    "Do obliczeń ewolucyjnych skorzystaliśmy z **Deap'a** ponieważ wspiera on definiowanie własnych operatorów, co umożliwia dostosowanie algorytmów ewolucyjnych do specyficznych potrzeb. Pozwala to na tworzenie niestandardowych operatorów selekcji, mutacji, krzyżowania i funkcji oceny dopasowania."
   ]
  },
  {
   "cell_type": "code",
   "execution_count": 5,
   "id": "ce522434ed205878",
   "metadata": {},
   "outputs": [],
   "source": [
    "import random\n",
    "\n",
    "from deap import base, creator, tools\n",
    "\n",
    "from representation import House\n",
    "import operators as op\n",
    "from visualization import visualize\n",
    "from loss_functions import loss_function2"
   ]
  },
  {
   "cell_type": "markdown",
   "id": "5d91a529587fec43",
   "metadata": {},
   "source": [
    "## Ustawienie danych"
   ]
  },
  {
   "cell_type": "markdown",
   "id": "a790cc54a5963d10",
   "metadata": {},
   "source": [
    "Rejestrujemy nasze specjalnie zdefionwane funkcje w toolboxie dostępnym w Deapie."
   ]
  },
  {
   "cell_type": "code",
   "execution_count": 2,
   "id": "2c7ea27630d37ca0",
   "metadata": {},
   "outputs": [],
   "source": [
    "creator.create(\"FitnessMin\", base.Fitness, weights=(-1.0,))  # Minimizing fitness\n",
    "creator.create(\"Individual\", list, fitness=creator.FitnessMin)  # Defining individual with fitness\n",
    "\n",
    "toolbox = base.Toolbox()\n",
    "\n",
    "def generate_house():\n",
    "    rows, cols = 6, 6\n",
    "    house = House(rows, cols)  # Create a house\n",
    "    individual = creator.Individual([house])  # Create individual with the house inside\n",
    "    loss = loss_function2(individual)\n",
    "    individual.fitness.values = loss  # Evaluate fitness for the individual\n",
    "    return individual\n",
    "\n",
    "# ========pierdoły========\n",
    "toolbox.register(\"individual\", generate_house)\n",
    "toolbox.register(\"population\", tools.initRepeat, list, toolbox.individual)\n",
    "toolbox.register(\"evaluate\", loss_function2)\n",
    "\n",
    "#========crossover========\n",
    "toolbox.register(\"mate\", op.crossover_swap_row_or_column)\n",
    "#toolbox.register(\"mate\", op.crossover_chessboard)\n",
    "#toolbox.register(\"mate\", op.crossover_diagonal)\n",
    "# ========mutation========\n",
    "toolbox.register(\"mutate1\", op.mutation_row_or_column)\n",
    "toolbox.register(\"mutate2\", op.mutate_individual)\n",
    "toolbox.register(\"mutate3\", op.mutate_rotate_segment)\n",
    "toolbox.register(\"mutate4\", op.mutation_change_doors)\n",
    "toolbox.register(\"mutate5\", op.mutation_special_containers)\n",
    "toolbox.register(\"mutate\", op.mutate_add_road)\n",
    "# ========select========\n",
    "toolbox.register(\"select\", tools.selTournament, tournsize=9)\n",
    "#toolbox.register(\"select\", tools.selBest)\n",
    "#toolbox.register(\"select\", op.sel_roulette_inverted)"
   ]
  },
  {
   "cell_type": "code",
   "execution_count": 3,
   "id": "2deb4d5949d46aa",
   "metadata": {},
   "outputs": [],
   "source": [
    "CROSS_OVER_P = 0.8\n",
    "MUTATION_MAIN_P = 0.6\n",
    "MUTATION_ADDITIONAL_P = 0.25"
   ]
  },
  {
   "cell_type": "code",
   "execution_count": 4,
   "id": "7e06844674964b2a",
   "metadata": {},
   "outputs": [
    {
     "name": "stdout",
     "output_type": "stream",
     "text": [
      "Wartość celu: 72.25308641975309\n"
     ]
    },
    {
     "data": {
      "image/png": "[encoded data removed]",
      "text/plain": [
       "<Figure size 640x480 with 1 Axes>"
      ]
     },
     "metadata": {},
     "output_type": "display_data"
    }
   ],
   "source": [
    "# Algorytm ewolucyjny\n",
    "def run_algorithm():\n",
    "    population = toolbox.population(n=200)\n",
    "    for generation in range(100):  # Liczba generacji\n",
    "        offspring = toolbox.select(population, len(population))\n",
    "        offspring = list(map(toolbox.clone, offspring))\n",
    "\n",
    "        # Krzyżowanie i mutacja\n",
    "        for child1, child2 in zip(offspring[::2], offspring[1::2]):\n",
    "            if random.random() < CROSS_OVER_P:  # Prawdopodobieństwo krzyżowania\n",
    "                toolbox.mate(child1, child2)\n",
    "            if random.random() < MUTATION_MAIN_P:\n",
    "                toolbox.mutate(child1)\n",
    "                toolbox.mutate(child2)\n",
    "            if random.random() < MUTATION_ADDITIONAL_P:\n",
    "                toolbox.mutate1(child1)\n",
    "                toolbox.mutate1(child2)\n",
    "            if random.random() < MUTATION_ADDITIONAL_P:\n",
    "                toolbox.mutate2(child1)\n",
    "                toolbox.mutate2(child2)\n",
    "            if random.random() < MUTATION_ADDITIONAL_P:\n",
    "                toolbox.mutate3(child1)\n",
    "                toolbox.mutate3(child2)\n",
    "            if random.random() < MUTATION_ADDITIONAL_P:\n",
    "                toolbox.mutate4(child1)\n",
    "                toolbox.mutate4(child2)\n",
    "            if random.random() < MUTATION_ADDITIONAL_P:\n",
    "                toolbox.mutate5(child1)\n",
    "                toolbox.mutate5(child2)\n",
    "\n",
    "        # Ocena nowego pokolenia\n",
    "        for ind in offspring:\n",
    "            ind.fitness.values = loss_function2(ind)\n",
    "\n",
    "        # Selekcja najlepszych osobników\n",
    "        population[:] = tools.selBest(offspring, len(population))\n",
    "\n",
    "    # Zwróć najlepszego osobnika\n",
    "    best_individual = tools.selBest(population, 1)[0]\n",
    "\n",
    "    return best_individual\n",
    "\n",
    "# Uruchomienie algorytmu\n",
    "best_house = run_algorithm()\n",
    "\n",
    "# Selecting the best individual\n",
    "print(f\"Wartość celu: {best_house.fitness.values[0]}\")\n",
    "visualize(best_house[0], showIDs=True)"
   ]
  },
  {
   "cell_type": "markdown",
   "id": "de7d8bdc8641fe4d",
   "metadata": {},
   "source": [
    "# Komentarz doświadczeń\n",
    "## Krzyżowanie\n",
    "W zasadzie przeprowadziliśmy ich dużą ilość zacznijmy od operatorów krzyżowania:\n",
    "- wszystkie dają bardzo podobne efekty\n",
    "- zobaczymy, że jest to mało istotny czynnik tutaj większą rolę odgrywa selekcja z mutacją\n",
    "## Mutacja\n",
    "- najważniejszą role odgrywa tutaj `add_road`, które zmienia topologię całego budynku\n",
    "- reszta mutacji wprowadza pewną wariację, bo albo zamieniają one drzwi, albo zmianiają segmenty miejscami\n",
    "## Selekcja\n",
    "- Najlepiej poradziła sobie metoda selekcji turniejowej\n",
    "- Selekcje typu `SelWorst` oraz `SelRoulette` poradziły sobie znacznie gorzej, przypuszczamy, że to dlatego, że do tego typu zadań nie można bazować tylko na najlepszych osobnikach, ale czesto biorąc najlepszego wpadamy w lokalne minimum(topologi) i nastepnie minimalizujemy ilość domów i potem algorytm nie może z tego wyjść\n",
    "- Metoda turniejowa, bierze więc taki złoty środek, bo zachowamy \"uśrednione najlepsze cechy\"\n",
    "\n",
    "# Doświadzczenia\n"
   ]
  },
  {
   "cell_type": "markdown",
   "id": "35f148707701ccac",
   "metadata": {},
   "source": [
    "## Przykład użycia ruletki (odwrócona)\n",
    "Razem ze wszystkimi 'najlepszym' wyborem mutacji oraz krzyżowania (optymalnie)."
   ]
  },
  {
   "cell_type": "markdown",
   "id": "af26bb621cef1f06",
   "metadata": {},
   "source": [
    "<img src=\"imgs/myplot1.png\" width=\"auto\" height=\"400\"/>"
   ]
  },
  {
   "cell_type": "markdown",
   "id": "163b6841",
   "metadata": {},
   "source": [
    "## SelWorst\n",
    "Działa podobnie źle ...\n",
    "\n",
    "<img src=\"imgs/myplot2.png\" width=\"auto\" height=\"400\"/>"
   ]
  },
  {
   "cell_type": "markdown",
   "id": "a054a6c88967e8e8",
   "metadata": {},
   "source": [
    "## Przykład wszystkich crossovery\n",
    "Jak widać wyniki są bardzo do siebie zbliżone z naprawdę drobnymi różnicami."
   ]
  },
  {
   "cell_type": "markdown",
   "id": "61772c7f",
   "metadata": {},
   "source": [
    "<img src=\"imgs/chessboard.png\" width=\"auto\" height=\"200\"/>\n",
    "<img src=\"imgs/swap.png\" width=\"auto\" height=\"200\"/>\n",
    "<img src=\"imgs/diagonal.png\" width=\"auto\" height=\"200\"/>"
   ]
  },
  {
   "cell_type": "markdown",
   "id": "f9a73283",
   "metadata": {},
   "source": [
    "## Brak Mutacji topologicznej\n",
    "<img src=\"imgs/no_road.png\" width=\"auto\" height=\"400\"/>"
   ]
  },
  {
   "cell_type": "markdown",
   "id": "55563e7e",
   "metadata": {},
   "source": [
    "## Przykład niskiej populacji\n",
    "Dla małych populacji algorytm nie działa dobrze, potrzebuje on dużo przykładów, które będzie porównywał i modyfikował.\n",
    "\n",
    "<img src=\"imgs/low_pop.png\" width=\"auto\" height=\"400\"/>"
   ]
  },
  {
   "cell_type": "markdown",
   "id": "8a5d7554",
   "metadata": {},
   "source": [
    "Testowaliśmy również inne zestawienia wartości prawdopodobieństwa. Sensowne wyniki otrzymywaliśmy dla prawdopodobieństwa mutacji topologicznej wyższej lub równej 0.5. Podczas testów prawdopodobieństwo oscylowało z zadowalającymi wynikami dla wartości 0.8. Dla 100 epok osiągaliśmy optymalne wyniki, poniżej tej liczby był problem ze zbieżnością."
   ]
  }
 ],
 "metadata": {
  "kernelspec": {
   "display_name": "Python 3",
   "language": "python",
   "name": "python3"
  },
  "language_info": {
   "codemirror_mode": {
    "name": "ipython",
    "version": 3
   },
   "file_extension": ".py",
   "mimetype": "text/x-python",
   "name": "python",
   "nbconvert_exporter": "python",
   "pygments_lexer": "ipython3",
   "version": "3.10.12"
  }
 },
 "nbformat": 4,
 "nbformat_minor": 5
}
